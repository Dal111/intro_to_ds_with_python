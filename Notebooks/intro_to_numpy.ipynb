{
 "cells": [
  {
   "cell_type": "code",
   "execution_count": 76,
   "metadata": {},
   "outputs": [],
   "source": [
    "# author: Vladimir Osin "
   ]
  },
  {
   "cell_type": "markdown",
   "metadata": {},
   "source": [
    "## NumPy\n",
    "\n",
    "NumPy is the fundamental package for scientific computing with Python. It contains among other things:\n",
    "\n",
    "- a powerful N-dimensional array object\n",
    "- sophisticated (broadcasting) functions\n",
    "- tools for integrating C/C++ and Fortran code\n",
    "- useful linear algebra, Fourier transform, and random number capabilities\n",
    "\n",
    "Besides its obvious scientific uses, NumPy can also be used as an efficient multi-dimensional container of generic data. Arbitrary data-types can be defined. \n",
    "This allows NumPy to seamlessly and speedily integrate with a wide variety of databases.\n",
    "\n",
    "**Note:** NumPy stands for Numeric Python. It's easy, fast and allow calculations over entire arrays. Find more [here](http://www.numpy.org/) "
   ]
  },
  {
   "cell_type": "markdown",
   "metadata": {},
   "source": [
    "## Basic usage"
   ]
  },
  {
   "cell_type": "code",
   "execution_count": 77,
   "metadata": {},
   "outputs": [],
   "source": [
    "# let's import library first\n",
    "import numpy as np"
   ]
  },
  {
   "cell_type": "code",
   "execution_count": 78,
   "metadata": {},
   "outputs": [
    {
     "name": "stdout",
     "output_type": "stream",
     "text": [
      "[ 1.2  3.4  6.  99. ]\n"
     ]
    }
   ],
   "source": [
    "# from Python list to Numpy array\n",
    "python_list = [1.2, 3.4, 6, 99]\n",
    "np_array = np.array(python_list)\n",
    "print(np_array)"
   ]
  },
  {
   "cell_type": "code",
   "execution_count": 79,
   "metadata": {},
   "outputs": [
    {
     "data": {
      "text/plain": [
       "(array([  5.7,   7.9,  10.5, 103.5]),\n",
       " array([-3.3, -1.1,  1.5, 94.5]),\n",
       " array([ 0.26666667,  0.75555556,  1.33333333, 22.        ]),\n",
       " array([  5.4,  15.3,  27. , 445.5]))"
      ]
     },
     "execution_count": 79,
     "metadata": {},
     "output_type": "execute_result"
    }
   ],
   "source": [
    "# add/substract/divide/multiply by scalar\n",
    "np_array+4.5, np_array-4.5, np_array/4.5, np_array*4.5 "
   ]
  },
  {
   "cell_type": "code",
   "execution_count": 80,
   "metadata": {},
   "outputs": [
    {
     "data": {
      "text/plain": [
       "array([1.2])"
      ]
     },
     "execution_count": 80,
     "metadata": {},
     "output_type": "execute_result"
    }
   ],
   "source": [
    "# subsetting\n",
    "np_array[np_array<3]"
   ]
  },
  {
   "cell_type": "code",
   "execution_count": 81,
   "metadata": {},
   "outputs": [
    {
     "name": "stdout",
     "output_type": "stream",
     "text": [
      "(4,)\n"
     ]
    }
   ],
   "source": [
    "# shape of array\n",
    "print(np_array.shape) # column vector"
   ]
  },
  {
   "cell_type": "markdown",
   "metadata": {},
   "source": [
    "## Basic Statistics "
   ]
  },
  {
   "cell_type": "code",
   "execution_count": 82,
   "metadata": {},
   "outputs": [],
   "source": [
    "# let's generate some data\n",
    "data_points = np.random.randint(200, size=100)"
   ]
  },
  {
   "cell_type": "code",
   "execution_count": 83,
   "metadata": {},
   "outputs": [
    {
     "data": {
      "text/plain": [
       "array([196, 135, 113,  70, 151, 198, 174,  71, 111, 111, 179, 153, 167,\n",
       "       188,  70,   7,  86,  69,  81, 158, 135,  41,  98,  91, 101, 120,\n",
       "       157,  88,  66, 157,   7,  86,  88, 140, 116, 108, 139,  27, 110,\n",
       "       141, 101, 148, 182,  94,  50,  92, 168,   9, 172, 125, 152, 140,\n",
       "       166, 193,  73, 100, 153,  64, 151, 166, 131,  77, 159,  21, 135,\n",
       "       177, 141,  16,  38,  83,  58, 199,  89, 188,  39, 136,  35, 104,\n",
       "       104,  88, 137, 158, 128,  75, 145,  52,  22,  59, 147, 161, 165,\n",
       "         1,   3, 171,  59, 150, 165, 153, 195,  44])"
      ]
     },
     "execution_count": 83,
     "metadata": {},
     "output_type": "execute_result"
    }
   ],
   "source": [
    "data_points"
   ]
  },
  {
   "cell_type": "code",
   "execution_count": 84,
   "metadata": {},
   "outputs": [
    {
     "data": {
      "text/plain": [
       "(112.11, 114.5, 52.85809209572361, 199, 1)"
      ]
     },
     "execution_count": 84,
     "metadata": {},
     "output_type": "execute_result"
    }
   ],
   "source": [
    "np.mean(data_points), np.median(data_points), np.std(data_points), np.max(data_points), np.min(data_points)"
   ]
  },
  {
   "cell_type": "markdown",
   "metadata": {},
   "source": [
    "## Matrices (2D Arrays)"
   ]
  },
  {
   "cell_type": "code",
   "execution_count": 85,
   "metadata": {},
   "outputs": [
    {
     "name": "stdout",
     "output_type": "stream",
     "text": [
      "Our 2D array: \n",
      " [[1 2 3]\n",
      " [3 2 1]\n",
      " [5 6 2]]\n",
      "\n",
      "Shape of 2D array is (3, 3)\n",
      "\n",
      "Our 2D array (first row and last column sliced): \n",
      " [[3 2]\n",
      " [5 6]]\n"
     ]
    }
   ],
   "source": [
    "# 2D array\n",
    "np_array2D = np.array([[1,2,3], [3,2,1], [5,6,2]])\n",
    "print(f'Our 2D array: \\n {np_array2D}')\n",
    "print(f'\\nShape of 2D array is {np_array2D.shape}') # matrix\n",
    "\n",
    "# slice 2D array\n",
    "np_array2D_sliced = np_array2D[1:, :-1]\n",
    "print(f'\\nOur 2D array (first row and last column sliced): \\n {np_array2D_sliced}')"
   ]
  },
  {
   "cell_type": "code",
   "execution_count": 86,
   "metadata": {},
   "outputs": [
    {
     "name": "stdout",
     "output_type": "stream",
     "text": [
      "A matrix : \n",
      " [[ 0  1 23]\n",
      " [ 3  0 23]\n",
      " [ 5 24  5]]\n",
      "\n",
      "B matrix : \n",
      " [[34 17 19]\n",
      " [ 9  4 15]\n",
      " [35 42 28]]\n",
      "\n",
      "A*B element-wise: \n",
      " [[   0   17  437]\n",
      " [  27    0  345]\n",
      " [ 175 1008  140]]\n",
      "\n",
      "A*B matrix multiplication : \n",
      " [[ 814  970  659]\n",
      " [ 907 1017  701]\n",
      " [ 561  391  595]]\n"
     ]
    }
   ],
   "source": [
    "# matrix multiplication \n",
    "A = np.random.randint(25, size=(3,3))\n",
    "B = np.random.randint(45, size=(3,3))\n",
    "\n",
    "print(f'A matrix : \\n {A}')\n",
    "print(f'\\nB matrix : \\n {B}')\n",
    "print(f'\\nA*B element-wise: \\n {A*B}')\n",
    "print(f'\\nA*B matrix multiplication : \\n {A.dot(B)}')"
   ]
  }
 ],
 "metadata": {
  "kernelspec": {
   "display_name": "Python 3",
   "language": "python",
   "name": "python3"
  },
  "language_info": {
   "codemirror_mode": {
    "name": "ipython",
    "version": 3
   },
   "file_extension": ".py",
   "mimetype": "text/x-python",
   "name": "python",
   "nbconvert_exporter": "python",
   "pygments_lexer": "ipython3",
   "version": "3.6.5"
  }
 },
 "nbformat": 4,
 "nbformat_minor": 2
}
