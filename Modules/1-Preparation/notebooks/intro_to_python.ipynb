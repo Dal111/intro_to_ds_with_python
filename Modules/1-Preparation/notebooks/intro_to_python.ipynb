{
 "cells": [
  {
   "cell_type": "code",
   "execution_count": 110,
   "metadata": {},
   "outputs": [],
   "source": [
    "# author: Vladimir Osin"
   ]
  },
  {
   "cell_type": "markdown",
   "metadata": {},
   "source": [
    "## Python \n",
    "\n",
    "Python is an interpreted high-level programming language for general-purpose programming. Let's look on characteristics of it one by one.\n",
    "\n",
    "- **Interpreted** - is a type of programming language for which most of its implementations execute instructions directly and freely, without previously compiling a program into machine-language instructions. \n",
    "- **High-level** - is a programming language with strong abstraction from the details of the computer, e.g. memory management, making the process of developing a program simpler and more understandable than when using a lower-level language. \n",
    "- **General-purpose** - is a programming language designed to be used for writing software in the widest variety of application domains. \n",
    "\n",
    "Below we consider minimum requirement basics of Python for successful course completion. \n",
    "\n",
    "\n",
    "**Note:** \n",
    "- Full tutorial about Python availvable [here](https://docs.python.org/3.7/tutorial/index.html) and highly recommended for complete novices in programming. \n",
    "- Built-in functions [here](https://docs.python.org/3/library/functions.html)"
   ]
  },
  {
   "cell_type": "markdown",
   "metadata": {},
   "source": [
    "## Basic math/operations"
   ]
  },
  {
   "cell_type": "code",
   "execution_count": 4,
   "metadata": {},
   "outputs": [
    {
     "data": {
      "text/plain": [
       "10"
      ]
     },
     "execution_count": 4,
     "metadata": {},
     "output_type": "execute_result"
    }
   ],
   "source": [
    "5+5"
   ]
  },
  {
   "cell_type": "code",
   "execution_count": 5,
   "metadata": {},
   "outputs": [
    {
     "data": {
      "text/plain": [
       "(49.0, 49, 22)"
      ]
     },
     "execution_count": 5,
     "metadata": {},
     "output_type": "execute_result"
    }
   ],
   "source": [
    "98/2, 7*7, 43-21"
   ]
  },
  {
   "cell_type": "code",
   "execution_count": 6,
   "metadata": {},
   "outputs": [
    {
     "data": {
      "text/plain": [
       "(True, False, True, True)"
      ]
     },
     "execution_count": 6,
     "metadata": {},
     "output_type": "execute_result"
    }
   ],
   "source": [
    "40 > 20, 30 < 5, 5 >= 5, 5 == 5"
   ]
  },
  {
   "cell_type": "markdown",
   "metadata": {},
   "source": [
    "## Variables"
   ]
  },
  {
   "cell_type": "code",
   "execution_count": 7,
   "metadata": {},
   "outputs": [
    {
     "data": {
      "text/plain": [
       "(55, 10.0)"
      ]
     },
     "execution_count": 7,
     "metadata": {},
     "output_type": "execute_result"
    }
   ],
   "source": [
    "# init \n",
    "a = 55.6\n",
    "b = 10\n",
    "c = (a+5*b)/b\n",
    "\n",
    "# casting\n",
    "int(a), float(b)"
   ]
  },
  {
   "cell_type": "markdown",
   "metadata": {},
   "source": [
    "## Strings "
   ]
  },
  {
   "cell_type": "code",
   "execution_count": 8,
   "metadata": {},
   "outputs": [
    {
     "data": {
      "text/plain": [
       "True"
      ]
     },
     "execution_count": 8,
     "metadata": {},
     "output_type": "execute_result"
    }
   ],
   "source": [
    "'Quotation' == \"Quotation\" == \"\"\"Quotation\"\"\""
   ]
  },
  {
   "cell_type": "code",
   "execution_count": 9,
   "metadata": {},
   "outputs": [
    {
     "data": {
      "text/plain": [
       "(True, True)"
      ]
     },
     "execution_count": 9,
     "metadata": {},
     "output_type": "execute_result"
    }
   ],
   "source": [
    "\"world\".title() == \"World\", \"world\".replace('l', '') == 'word'"
   ]
  },
  {
   "cell_type": "code",
   "execution_count": 10,
   "metadata": {},
   "outputs": [
    {
     "data": {
      "text/plain": [
       "(False,)"
      ]
     },
     "execution_count": 10,
     "metadata": {},
     "output_type": "execute_result"
    }
   ],
   "source": [
    "\"world\".lower() == 'WORLD', # lower? yes"
   ]
  },
  {
   "cell_type": "code",
   "execution_count": 11,
   "metadata": {},
   "outputs": [
    {
     "data": {
      "text/plain": [
       "(True, True)"
      ]
     },
     "execution_count": 11,
     "metadata": {},
     "output_type": "execute_result"
    }
   ],
   "source": [
    "'123'.isdigit(), 'Python'.isalpha()"
   ]
  },
  {
   "cell_type": "code",
   "execution_count": 12,
   "metadata": {},
   "outputs": [
    {
     "data": {
      "text/plain": [
       "['John ', ' Smith ', ' Peter ', ' Marcel']"
      ]
     },
     "execution_count": 12,
     "metadata": {},
     "output_type": "execute_result"
    }
   ],
   "source": [
    "'John | Smith | Peter | Marcel'.split('|') "
   ]
  },
  {
   "cell_type": "code",
   "execution_count": 13,
   "metadata": {},
   "outputs": [
    {
     "data": {
      "text/plain": [
       "('a is equal to 10', 'a is equal to 55.6')"
      ]
     },
     "execution_count": 13,
     "metadata": {},
     "output_type": "execute_result"
    }
   ],
   "source": [
    "# format\n",
    "f'a is equal to {b}', 'a is equal to {0}'.format(a)"
   ]
  },
  {
   "cell_type": "code",
   "execution_count": 14,
   "metadata": {},
   "outputs": [
    {
     "name": "stdout",
     "output_type": "stream",
     "text": [
      "First string\n",
      "Next string\n",
      "First string\\nNext string\n"
     ]
    }
   ],
   "source": [
    "# raw strings\n",
    "print('First string\\nNext string')\n",
    "print(r'First string\\nNext string')"
   ]
  },
  {
   "cell_type": "markdown",
   "metadata": {},
   "source": [
    "## Boolean and None"
   ]
  },
  {
   "cell_type": "code",
   "execution_count": 15,
   "metadata": {},
   "outputs": [],
   "source": [
    "# Boolean values respond to logical operators and / or\n",
    "\n",
    "python2 = False\n",
    "python3 = True\n",
    "none_variable = None"
   ]
  },
  {
   "cell_type": "code",
   "execution_count": 16,
   "metadata": {},
   "outputs": [
    {
     "data": {
      "text/plain": [
       "False"
      ]
     },
     "execution_count": 16,
     "metadata": {},
     "output_type": "execute_result"
    }
   ],
   "source": [
    "True == False"
   ]
  },
  {
   "cell_type": "markdown",
   "metadata": {},
   "source": [
    "## Lists\n",
    "\n",
    "- The list is a most versatile datatype available in Python which can be written as a sequence of comma-separated values (items) between square brackets. Important thing about a list is that items in a sequence need not be of the same type."
   ]
  },
  {
   "cell_type": "code",
   "execution_count": 17,
   "metadata": {},
   "outputs": [],
   "source": [
    "#init\n",
    "names = ['John', 'Neo', 'Darth Vader']"
   ]
  },
  {
   "cell_type": "code",
   "execution_count": 19,
   "metadata": {},
   "outputs": [
    {
     "data": {
      "text/plain": [
       "('John', 'Darth Vader')"
      ]
     },
     "execution_count": 19,
     "metadata": {},
     "output_type": "execute_result"
    }
   ],
   "source": [
    "# access of elements \n",
    "names[0], names[2]"
   ]
  },
  {
   "cell_type": "code",
   "execution_count": 20,
   "metadata": {},
   "outputs": [],
   "source": [
    "# add element\n",
    "names.append('Victoria') "
   ]
  },
  {
   "cell_type": "code",
   "execution_count": 21,
   "metadata": {},
   "outputs": [
    {
     "data": {
      "text/plain": [
       "4"
      ]
     },
     "execution_count": 21,
     "metadata": {},
     "output_type": "execute_result"
    }
   ],
   "source": [
    "# amount of elements in the list\n",
    "len(names)"
   ]
  },
  {
   "cell_type": "code",
   "execution_count": 22,
   "metadata": {},
   "outputs": [],
   "source": [
    "# delete element from list\n",
    "del names[0]"
   ]
  },
  {
   "cell_type": "code",
   "execution_count": 23,
   "metadata": {},
   "outputs": [
    {
     "data": {
      "text/plain": [
       "False"
      ]
     },
     "execution_count": 23,
     "metadata": {},
     "output_type": "execute_result"
    }
   ],
   "source": [
    "# check inclusion of element\n",
    "'Adam' in names"
   ]
  },
  {
   "cell_type": "code",
   "execution_count": 24,
   "metadata": {},
   "outputs": [
    {
     "data": {
      "text/plain": [
       "['Darth Vader', 'Victoria']"
      ]
     },
     "execution_count": 24,
     "metadata": {},
     "output_type": "execute_result"
    }
   ],
   "source": [
    "names[1:]"
   ]
  },
  {
   "cell_type": "code",
   "execution_count": 25,
   "metadata": {},
   "outputs": [
    {
     "name": "stdout",
     "output_type": "stream",
     "text": [
      "first two elements of the list: ['Neo', 'Darth Vader']\n",
      "last element of the list: Victoria\n",
      "all elements except first: ['Darth Vader', 'Victoria']\n"
     ]
    }
   ],
   "source": [
    "# slicing\n",
    "print(f'first two elements of the list: {names[:2]}')\n",
    "print(f'last element of the list: {names[-1]}') \n",
    "print(f'all elements except first: {names[1:]}')"
   ]
  },
  {
   "cell_type": "markdown",
   "metadata": {},
   "source": [
    "## Dictionaries"
   ]
  },
  {
   "cell_type": "code",
   "execution_count": 26,
   "metadata": {},
   "outputs": [],
   "source": [
    "# key-value paired structure\n",
    "order = {'id'  : [1,2,3, 'research'],\n",
    "         'name': 'Darth Vader',\n",
    "         'order_type': 'lightsaber',\n",
    "         'color': ['red', 'blue'],\n",
    "         'package_number': 666\n",
    "        }"
   ]
  },
  {
   "cell_type": "code",
   "execution_count": 27,
   "metadata": {},
   "outputs": [
    {
     "data": {
      "text/plain": [
       "(['red', 'blue'], ['red', 'blue'])"
      ]
     },
     "execution_count": 27,
     "metadata": {},
     "output_type": "execute_result"
    }
   ],
   "source": [
    "# access value by key\n",
    "order['color'], order.get('color', [])"
   ]
  },
  {
   "cell_type": "code",
   "execution_count": 28,
   "metadata": {},
   "outputs": [
    {
     "data": {
      "text/plain": [
       "dict_keys(['id', 'name', 'order_type', 'color', 'package_number'])"
      ]
     },
     "execution_count": 28,
     "metadata": {},
     "output_type": "execute_result"
    }
   ],
   "source": [
    "# all keys\n",
    "order.keys()"
   ]
  },
  {
   "cell_type": "code",
   "execution_count": 29,
   "metadata": {},
   "outputs": [
    {
     "data": {
      "text/plain": [
       "dict_values([[1, 2, 3, 'research'], 'Darth Vader', 'lightsaber', ['red', 'blue'], 666])"
      ]
     },
     "execution_count": 29,
     "metadata": {},
     "output_type": "execute_result"
    }
   ],
   "source": [
    "# all values\n",
    "order.values()"
   ]
  },
  {
   "cell_type": "code",
   "execution_count": 30,
   "metadata": {},
   "outputs": [],
   "source": [
    "# delete key-value pair\n",
    "del order['color']"
   ]
  },
  {
   "cell_type": "markdown",
   "metadata": {},
   "source": [
    "## Sets\n",
    "- A set contains a collection of unique and immutable objects. "
   ]
  },
  {
   "cell_type": "code",
   "execution_count": 31,
   "metadata": {},
   "outputs": [
    {
     "name": "stdout",
     "output_type": "stream",
     "text": [
      "{'James', 'Adam', 'John'}\n",
      "{1, 2, 4, 6, -100}\n"
     ]
    }
   ],
   "source": [
    "# init\n",
    "set_names = set(['John', 'James', 'John', 'John', 'Adam'])\n",
    "print(set_names)\n",
    "\n",
    "set_numbers = set([6, 2, 4, 1, -100])\n",
    "print(set_numbers)"
   ]
  },
  {
   "cell_type": "code",
   "execution_count": 32,
   "metadata": {},
   "outputs": [
    {
     "name": "stdout",
     "output_type": "stream",
     "text": [
      "{'David', 'James', 'Adam', 'John'}\n"
     ]
    }
   ],
   "source": [
    "# add element\n",
    "set_names.add('David')\n",
    "print(set_names)"
   ]
  },
  {
   "cell_type": "markdown",
   "metadata": {},
   "source": [
    "## Tuples\n",
    "\n",
    "- A tuple is a sequence of immutable Python objects. The differences between tuples and lists are, the tuples cannot be changed unlike lists and tuples use parentheses, whereas lists use square brackets."
   ]
  },
  {
   "cell_type": "code",
   "execution_count": 33,
   "metadata": {},
   "outputs": [],
   "source": [
    "# init\n",
    "tuple_names_girls = ('Maria', 'Carla', 'Victoria')\n",
    "tuple_names_boys  = ('Robert', 'Jim', 'Ivan')"
   ]
  },
  {
   "cell_type": "code",
   "execution_count": 34,
   "metadata": {},
   "outputs": [
    {
     "data": {
      "text/plain": [
       "'Ivan'"
      ]
     },
     "execution_count": 34,
     "metadata": {},
     "output_type": "execute_result"
    }
   ],
   "source": [
    "# access values\n",
    "tuple_names_boys[2]"
   ]
  },
  {
   "cell_type": "code",
   "execution_count": 35,
   "metadata": {},
   "outputs": [
    {
     "data": {
      "text/plain": [
       "('Robert', 'Jim', 'Ivan', 'Maria', 'Carla', 'Victoria')"
      ]
     },
     "execution_count": 35,
     "metadata": {},
     "output_type": "execute_result"
    }
   ],
   "source": [
    "# concatenation \n",
    "tuple_names_boys + tuple_names_girls"
   ]
  },
  {
   "cell_type": "markdown",
   "metadata": {},
   "source": [
    "## Control Flow "
   ]
  },
  {
   "cell_type": "markdown",
   "metadata": {},
   "source": [
    "### - if statements"
   ]
  },
  {
   "cell_type": "code",
   "execution_count": 36,
   "metadata": {},
   "outputs": [
    {
     "name": "stdout",
     "output_type": "stream",
     "text": [
      "Yes, you should use Python 3 as default\n"
     ]
    }
   ],
   "source": [
    "if 10>5:\n",
    "    print('Yes, you should use Python 3 as default')"
   ]
  },
  {
   "cell_type": "code",
   "execution_count": 37,
   "metadata": {},
   "outputs": [
    {
     "name": "stdout",
     "output_type": "stream",
     "text": [
      "a is more than 10\n"
     ]
    }
   ],
   "source": [
    "# single condition\n",
    "a = 12\n",
    "if a < 5:\n",
    "    print(f'a is more than 5')\n",
    "elif a>10:\n",
    "    print(f'a is more than 10')\n",
    "else:\n",
    "    print(f'this will not be executed')   "
   ]
  },
  {
   "cell_type": "code",
   "execution_count": 38,
   "metadata": {},
   "outputs": [
    {
     "name": "stdout",
     "output_type": "stream",
     "text": [
      "a value more than 9\n"
     ]
    }
   ],
   "source": [
    "# several conditions (try or)\n",
    "a = 3\n",
    "if a > 5 and a < 9:\n",
    "    print('a is more than 5 and less than 9')\n",
    "else:\n",
    "    print('a value more than 9') "
   ]
  },
  {
   "cell_type": "code",
   "execution_count": 39,
   "metadata": {},
   "outputs": [
    {
     "name": "stdout",
     "output_type": "stream",
     "text": [
      "Python 3\n"
     ]
    }
   ],
   "source": [
    "# ternary if statement\n",
    "a = 5\n",
    "b = -1\n",
    "\n",
    "print('Python 3' if a > b else 'Python 2')"
   ]
  },
  {
   "cell_type": "markdown",
   "metadata": {},
   "source": [
    "### - loops"
   ]
  },
  {
   "cell_type": "code",
   "execution_count": 42,
   "metadata": {},
   "outputs": [
    {
     "name": "stdout",
     "output_type": "stream",
     "text": [
      "1\n",
      "2\n",
      "3\n",
      "4\n",
      "5\n"
     ]
    }
   ],
   "source": [
    "# while loop\n",
    "a = 0\n",
    "while a<5:\n",
    "    a = a + 1\n",
    "    print(a)"
   ]
  },
  {
   "cell_type": "code",
   "execution_count": 43,
   "metadata": {},
   "outputs": [
    {
     "name": "stdout",
     "output_type": "stream",
     "text": [
      "0 Neo\n",
      "1 Darth Vader\n",
      "2 Victoria\n"
     ]
    }
   ],
   "source": [
    "# for loop\n",
    "for ind, name in enumerate(names):\n",
    "    print(ind, name)"
   ]
  },
  {
   "cell_type": "code",
   "execution_count": 45,
   "metadata": {},
   "outputs": [
    {
     "name": "stdout",
     "output_type": "stream",
     "text": [
      "Dark Lord founded\n"
     ]
    }
   ],
   "source": [
    "# break statement\n",
    "for name in names:\n",
    "    if name == 'Darth Vader':\n",
    "        print('Dark Lord founded')\n",
    "        break # to terminate loop"
   ]
  },
  {
   "cell_type": "code",
   "execution_count": 46,
   "metadata": {},
   "outputs": [
    {
     "name": "stdout",
     "output_type": "stream",
     "text": [
      "Neo\n",
      "Victoria\n"
     ]
    }
   ],
   "source": [
    "# continue statement\n",
    "for name in names:\n",
    "    if name == 'Darth Vader':\n",
    "        continue # go to next iteration\n",
    "    \n",
    "    print(name)"
   ]
  },
  {
   "cell_type": "code",
   "execution_count": 47,
   "metadata": {},
   "outputs": [
    {
     "name": "stdout",
     "output_type": "stream",
     "text": [
      "id [1, 2, 3, 'research']\n",
      "name Darth Vader\n",
      "order_type lightsaber\n",
      "package_number 666\n"
     ]
    }
   ],
   "source": [
    "# for loop over dictionary \n",
    "for key, value in order.items():\n",
    "    print(key, value)"
   ]
  },
  {
   "cell_type": "markdown",
   "metadata": {},
   "source": [
    "## Functions"
   ]
  },
  {
   "cell_type": "code",
   "execution_count": 48,
   "metadata": {},
   "outputs": [],
   "source": [
    "# function template\n",
    "def function_name(param1, param2, *args, **kwargs):\n",
    "    pass"
   ]
  },
  {
   "cell_type": "code",
   "execution_count": 49,
   "metadata": {},
   "outputs": [],
   "source": [
    "# example function\n",
    "def cast_to_int_and_sum(a, b):\n",
    "    return int(a) + int(b)"
   ]
  },
  {
   "cell_type": "code",
   "execution_count": 50,
   "metadata": {},
   "outputs": [],
   "source": [
    "# example function (with type hinting)\n",
    "def cast_to_int_and_sum(a:float, b:float) -> int:\n",
    "    return int(a) + int(b)"
   ]
  },
  {
   "cell_type": "code",
   "execution_count": 51,
   "metadata": {},
   "outputs": [
    {
     "data": {
      "text/plain": [
       "15"
      ]
     },
     "execution_count": 51,
     "metadata": {},
     "output_type": "execute_result"
    }
   ],
   "source": [
    "cast_to_int_and_sum(5.55555, 10)"
   ]
  },
  {
   "cell_type": "code",
   "execution_count": 52,
   "metadata": {},
   "outputs": [],
   "source": [
    "# lambda function\n",
    "cast_to_int_and_sub = lambda a,b: int(a)-int(b)"
   ]
  },
  {
   "cell_type": "code",
   "execution_count": 54,
   "metadata": {},
   "outputs": [
    {
     "data": {
      "text/plain": [
       "-1"
      ]
     },
     "execution_count": 54,
     "metadata": {},
     "output_type": "execute_result"
    }
   ],
   "source": [
    "cast_to_int_and_sub(4.4, 5.2)"
   ]
  },
  {
   "cell_type": "code",
   "execution_count": 60,
   "metadata": {},
   "outputs": [],
   "source": [
    "# args kwargs\n",
    "def inderstand_args(*args):\n",
    "    print(args)\n",
    "\n",
    "def inderstand_kwargs(**kwargs):\n",
    "    print(kwargs)\n",
    "    \n",
    "def inderstand_kwargs_args(*args, **kwargs):\n",
    "    print(args, kwargs)"
   ]
  },
  {
   "cell_type": "code",
   "execution_count": 56,
   "metadata": {},
   "outputs": [
    {
     "name": "stdout",
     "output_type": "stream",
     "text": [
      "(5, 1, 'sample string')\n"
     ]
    }
   ],
   "source": [
    "inderstand_args(5, 1, 'sample string')"
   ]
  },
  {
   "cell_type": "code",
   "execution_count": 57,
   "metadata": {},
   "outputs": [
    {
     "name": "stdout",
     "output_type": "stream",
     "text": [
      "{'age': 23, 'value': 59, 'order_type': 'fruits'}\n"
     ]
    }
   ],
   "source": [
    "inderstand_kwargs(age=23, value=59, order_type='fruits')"
   ]
  },
  {
   "cell_type": "code",
   "execution_count": 61,
   "metadata": {},
   "outputs": [
    {
     "name": "stdout",
     "output_type": "stream",
     "text": [
      "('first argument',) {'order_type': 'fruits'}\n"
     ]
    }
   ],
   "source": [
    "inderstand_kwargs_args('first argument', order_type='fruits')"
   ]
  }
 ],
 "metadata": {
  "kernelspec": {
   "display_name": "Python 3",
   "language": "python",
   "name": "python3"
  },
  "language_info": {
   "codemirror_mode": {
    "name": "ipython",
    "version": 3
   },
   "file_extension": ".py",
   "mimetype": "text/x-python",
   "name": "python",
   "nbconvert_exporter": "python",
   "pygments_lexer": "ipython3",
   "version": "3.6.5"
  }
 },
 "nbformat": 4,
 "nbformat_minor": 2
}
