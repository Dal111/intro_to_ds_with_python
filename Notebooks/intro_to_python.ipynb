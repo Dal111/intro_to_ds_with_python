{
 "cells": [
  {
   "cell_type": "code",
   "execution_count": null,
   "metadata": {},
   "outputs": [],
   "source": [
    "# author: Vladimir Osin\n",
    "\n",
    "## TODO\n",
    "## Link to docs and tutors\n",
    "## add links to into to Jupyter Lab and Jupyter notebook "
   ]
  },
  {
   "cell_type": "markdown",
   "metadata": {},
   "source": [
    "## Python \n",
    "\n",
    "Python is an interpreted high-level programming language for general-purpose programming. Let's look on characteristics of it one by one.\n",
    "\n",
    "- **Interpreted** - is a type of programming language for which most of its implementations execute instructions directly and freely, without previously compiling a program into machine-language instructions. \n",
    "- **High-level** - is a programming language with strong abstraction from the details of the computer, e.g. memory management, making the process of developing a program simpler and more understandable than when using a lower-level language. \n",
    "- **General-purpose** - is a programming language designed to be used for writing software in the widest variety of application domains. \n",
    "\n",
    "Below we consider minimum requirement basics of Python for successful course completion. \n",
    "\n",
    "\n",
    "**Note:** Full tutorial about Python availvable [here](https://docs.python.org/3.7/tutorial/index.html) and highly recommended for complete novices in programming. "
   ]
  },
  {
   "cell_type": "markdown",
   "metadata": {},
   "source": [
    "## Basic math"
   ]
  },
  {
   "cell_type": "code",
   "execution_count": 1,
   "metadata": {},
   "outputs": [
    {
     "data": {
      "text/plain": [
       "10"
      ]
     },
     "execution_count": 1,
     "metadata": {},
     "output_type": "execute_result"
    }
   ],
   "source": [
    "5+5"
   ]
  },
  {
   "cell_type": "code",
   "execution_count": 5,
   "metadata": {},
   "outputs": [
    {
     "data": {
      "text/plain": [
       "(49.0, 49, 22)"
      ]
     },
     "execution_count": 5,
     "metadata": {},
     "output_type": "execute_result"
    }
   ],
   "source": [
    "98/2, 7*7, 43-21"
   ]
  },
  {
   "cell_type": "markdown",
   "metadata": {},
   "source": [
    "## Variables"
   ]
  },
  {
   "cell_type": "code",
   "execution_count": 5,
   "metadata": {},
   "outputs": [
    {
     "data": {
      "text/plain": [
       "(5, 10.0)"
      ]
     },
     "execution_count": 5,
     "metadata": {},
     "output_type": "execute_result"
    }
   ],
   "source": [
    "# init \n",
    "a = 5.5\n",
    "b = 10\n",
    "c = (a+5*b)/b\n",
    "\n",
    "# casting\n",
    "int(a), float(b)"
   ]
  },
  {
   "cell_type": "markdown",
   "metadata": {},
   "source": [
    "## Strings "
   ]
  },
  {
   "cell_type": "code",
   "execution_count": 7,
   "metadata": {},
   "outputs": [
    {
     "data": {
      "text/plain": [
       "True"
      ]
     },
     "execution_count": 7,
     "metadata": {},
     "output_type": "execute_result"
    }
   ],
   "source": [
    "'Quotation' == \"Quotation\" == \"\"\"Quotation\"\"\""
   ]
  },
  {
   "cell_type": "code",
   "execution_count": 10,
   "metadata": {},
   "outputs": [
    {
     "data": {
      "text/plain": [
       "(True, True)"
      ]
     },
     "execution_count": 10,
     "metadata": {},
     "output_type": "execute_result"
    }
   ],
   "source": [
    "\"world\".capitalize() == \"World\", \"world\".replace('l', '') == 'word'"
   ]
  },
  {
   "cell_type": "code",
   "execution_count": 11,
   "metadata": {},
   "outputs": [
    {
     "data": {
      "text/plain": [
       "True"
      ]
     },
     "execution_count": 11,
     "metadata": {},
     "output_type": "execute_result"
    }
   ],
   "source": [
    "\"world\".upper() == 'WORLD', # lower? yes"
   ]
  },
  {
   "cell_type": "code",
   "execution_count": 15,
   "metadata": {},
   "outputs": [
    {
     "data": {
      "text/plain": [
       "(True, True)"
      ]
     },
     "execution_count": 15,
     "metadata": {},
     "output_type": "execute_result"
    }
   ],
   "source": [
    "'123'.isdigit(), 'Python'.isalpha()"
   ]
  },
  {
   "cell_type": "code",
   "execution_count": 16,
   "metadata": {},
   "outputs": [
    {
     "data": {
      "text/plain": [
       "['John', ' Smith', ' 23', ' math']"
      ]
     },
     "execution_count": 16,
     "metadata": {},
     "output_type": "execute_result"
    }
   ],
   "source": [
    "'John, Smith, 23, math'.split(',')"
   ]
  },
  {
   "cell_type": "code",
   "execution_count": 18,
   "metadata": {},
   "outputs": [
    {
     "data": {
      "text/plain": [
       "('a is equal to 5.5', 'a is equal to 5.5')"
      ]
     },
     "execution_count": 18,
     "metadata": {},
     "output_type": "execute_result"
    }
   ],
   "source": [
    "# format\n",
    "f'a is equal to {a}', 'a is equal to {0}'.format(a)"
   ]
  },
  {
   "cell_type": "code",
   "execution_count": 29,
   "metadata": {},
   "outputs": [
    {
     "name": "stdout",
     "output_type": "stream",
     "text": [
      "First string\n",
      "Next string\n",
      "First string\\nNext string\n"
     ]
    }
   ],
   "source": [
    "# raw strings\n",
    "print('First string\\nNext string')\n",
    "print(r'First string\\nNext string')"
   ]
  },
  {
   "cell_type": "markdown",
   "metadata": {},
   "source": [
    "## Boolean and None"
   ]
  },
  {
   "cell_type": "code",
   "execution_count": 36,
   "metadata": {},
   "outputs": [],
   "source": [
    "python2 = False\n",
    "python3 = True\n",
    "none_variable = None"
   ]
  },
  {
   "cell_type": "markdown",
   "metadata": {},
   "source": [
    "## Lists"
   ]
  },
  {
   "cell_type": "code",
   "execution_count": 56,
   "metadata": {},
   "outputs": [],
   "source": [
    "#init\n",
    "names = ['John', 'Neo', 'Dart Vader']"
   ]
  },
  {
   "cell_type": "code",
   "execution_count": 57,
   "metadata": {},
   "outputs": [
    {
     "data": {
      "text/plain": [
       "('John', 'Dart Vader')"
      ]
     },
     "execution_count": 57,
     "metadata": {},
     "output_type": "execute_result"
    }
   ],
   "source": [
    "# access of elements \n",
    "names[0], names[2]"
   ]
  },
  {
   "cell_type": "code",
   "execution_count": 58,
   "metadata": {},
   "outputs": [],
   "source": [
    "# add element\n",
    "names.append('Victoria') "
   ]
  },
  {
   "cell_type": "code",
   "execution_count": 59,
   "metadata": {},
   "outputs": [
    {
     "data": {
      "text/plain": [
       "4"
      ]
     },
     "execution_count": 59,
     "metadata": {},
     "output_type": "execute_result"
    }
   ],
   "source": [
    "# amount of elements in the list\n",
    "len(names)"
   ]
  },
  {
   "cell_type": "code",
   "execution_count": 61,
   "metadata": {},
   "outputs": [],
   "source": [
    "# delete element from list\n",
    "del names[0]"
   ]
  },
  {
   "cell_type": "code",
   "execution_count": 62,
   "metadata": {},
   "outputs": [
    {
     "data": {
      "text/plain": [
       "False"
      ]
     },
     "execution_count": 62,
     "metadata": {},
     "output_type": "execute_result"
    }
   ],
   "source": [
    "# check inclusion of element\n",
    "'John' in names"
   ]
  },
  {
   "cell_type": "code",
   "execution_count": 70,
   "metadata": {},
   "outputs": [
    {
     "name": "stdout",
     "output_type": "stream",
     "text": [
      "first two elements of the list: ['Neo', 'Dart Vader']\n",
      "last element of the list: Victoria\n",
      "all elements except first: ['Dart Vader', 'Victoria']\n"
     ]
    }
   ],
   "source": [
    "# slicing\n",
    "print(f'first two elements of the list: {names[:2]}')\n",
    "print(f'last element of the list: {names[-1]}') \n",
    "print(f'all elements except first: {names[1:]}')"
   ]
  },
  {
   "cell_type": "markdown",
   "metadata": {},
   "source": [
    "## Dictionaries"
   ]
  },
  {
   "cell_type": "code",
   "execution_count": 78,
   "metadata": {},
   "outputs": [],
   "source": [
    "# key-value paired structure\n",
    "order = {'id'  : 1,\n",
    "         'name': 'Dart Vader',\n",
    "         'order_type': 'lightsaber',\n",
    "         'color': 'red',\n",
    "         'package_number': 666\n",
    "        }"
   ]
  },
  {
   "cell_type": "code",
   "execution_count": 84,
   "metadata": {},
   "outputs": [
    {
     "data": {
      "text/plain": [
       "('red', None)"
      ]
     },
     "execution_count": 84,
     "metadata": {},
     "output_type": "execute_result"
    }
   ],
   "source": [
    "# access value by key\n",
    "order['color'], order.get('is_jedi')"
   ]
  },
  {
   "cell_type": "code",
   "execution_count": 85,
   "metadata": {},
   "outputs": [
    {
     "data": {
      "text/plain": [
       "dict_keys(['id', 'name', 'order_type', 'color', 'package_number'])"
      ]
     },
     "execution_count": 85,
     "metadata": {},
     "output_type": "execute_result"
    }
   ],
   "source": [
    "# all keys\n",
    "order.keys()"
   ]
  },
  {
   "cell_type": "code",
   "execution_count": 86,
   "metadata": {},
   "outputs": [
    {
     "data": {
      "text/plain": [
       "dict_values([1, 'Dart Vader', 'lightsaber', 'red', 666])"
      ]
     },
     "execution_count": 86,
     "metadata": {},
     "output_type": "execute_result"
    }
   ],
   "source": [
    "# all values\n",
    "order.values()"
   ]
  },
  {
   "cell_type": "code",
   "execution_count": 87,
   "metadata": {},
   "outputs": [],
   "source": [
    "# delete key-value pair\n",
    "del order['color']"
   ]
  },
  {
   "cell_type": "code",
   "execution_count": null,
   "metadata": {},
   "outputs": [],
   "source": []
  },
  {
   "cell_type": "code",
   "execution_count": null,
   "metadata": {},
   "outputs": [],
   "source": [
    "## add set and tuple"
   ]
  },
  {
   "cell_type": "markdown",
   "metadata": {},
   "source": [
    "## Control Flow "
   ]
  },
  {
   "cell_type": "markdown",
   "metadata": {},
   "source": [
    "### - if statements"
   ]
  },
  {
   "cell_type": "code",
   "execution_count": 40,
   "metadata": {},
   "outputs": [
    {
     "name": "stdout",
     "output_type": "stream",
     "text": [
      "Yes, you should use Python 3 as default\n"
     ]
    }
   ],
   "source": [
    "if python3:\n",
    "    print('Yes, you should use Python 3 as default')"
   ]
  },
  {
   "cell_type": "code",
   "execution_count": 41,
   "metadata": {},
   "outputs": [
    {
     "name": "stdout",
     "output_type": "stream",
     "text": [
      "a is more than 5\n"
     ]
    }
   ],
   "source": [
    "# single condition\n",
    "a = 10\n",
    "if a > 5:\n",
    "    print(f'a is more than 5')\n",
    "else:\n",
    "    print(f'this will not be executed')   "
   ]
  },
  {
   "cell_type": "code",
   "execution_count": 43,
   "metadata": {},
   "outputs": [
    {
     "name": "stdout",
     "output_type": "stream",
     "text": [
      "a value more than 9\n"
     ]
    }
   ],
   "source": [
    "# several conditions (try or)\n",
    "a = 3\n",
    "if a > 5 and a < 9:\n",
    "    print('a is more than 5 and less than 9')\n",
    "else:\n",
    "    print('a value more than 9') "
   ]
  },
  {
   "cell_type": "code",
   "execution_count": 44,
   "metadata": {},
   "outputs": [
    {
     "name": "stdout",
     "output_type": "stream",
     "text": [
      "Python 3\n"
     ]
    }
   ],
   "source": [
    "# ternary if statement\n",
    "a = 5\n",
    "b = -1\n",
    "\n",
    "print('Python 3' if a > b else 'Python 2')"
   ]
  },
  {
   "cell_type": "markdown",
   "metadata": {},
   "source": [
    "### - loops"
   ]
  },
  {
   "cell_type": "code",
   "execution_count": 31,
   "metadata": {},
   "outputs": [
    {
     "name": "stdout",
     "output_type": "stream",
     "text": [
      "a value is 1\n",
      "a value is 2\n",
      "a value is 3\n",
      "a value is 4\n",
      "a value is 5\n"
     ]
    }
   ],
   "source": [
    "# while loop\n",
    "a = 0\n",
    "while a<5:\n",
    "    a = a + 1\n",
    "    print(f'a v')"
   ]
  },
  {
   "cell_type": "code",
   "execution_count": 73,
   "metadata": {},
   "outputs": [
    {
     "name": "stdout",
     "output_type": "stream",
     "text": [
      "Neo\n",
      "Dart Vader\n",
      "Victoria\n"
     ]
    }
   ],
   "source": [
    "# for loop\n",
    "for name in names:\n",
    "    print(name)"
   ]
  },
  {
   "cell_type": "code",
   "execution_count": 74,
   "metadata": {},
   "outputs": [
    {
     "name": "stdout",
     "output_type": "stream",
     "text": [
      "Dark Lord founded\n"
     ]
    }
   ],
   "source": [
    "# break statement\n",
    "for name in names:\n",
    "    if name == 'Dart Vader':\n",
    "        print('Dark Lord founded')\n",
    "        break # to terminate loop"
   ]
  },
  {
   "cell_type": "code",
   "execution_count": 75,
   "metadata": {},
   "outputs": [
    {
     "name": "stdout",
     "output_type": "stream",
     "text": [
      "Neo\n",
      "Victoria\n"
     ]
    }
   ],
   "source": [
    "# continue statement\n",
    "for name in names:\n",
    "    if name == 'Dart Vader':\n",
    "        continue # go to next iteration\n",
    "    \n",
    "    print(name)"
   ]
  },
  {
   "cell_type": "markdown",
   "metadata": {},
   "source": [
    "## Functions"
   ]
  },
  {
   "cell_type": "code",
   "execution_count": 90,
   "metadata": {},
   "outputs": [],
   "source": [
    "# function template\n",
    "def function_name(param1, param2, *args, **kwargs):\n",
    "    pass"
   ]
  },
  {
   "cell_type": "code",
   "execution_count": 97,
   "metadata": {},
   "outputs": [],
   "source": [
    "# example function\n",
    "def cast_to_int_and_sum(a, b):\n",
    "    return int(a) + int(b)\n",
    "\n",
    "# example function (with type hinting)\n",
    "def cast_to_int_and_sum(a:float, b:float) -> int:\n",
    "    return int(a) + int(b)"
   ]
  },
  {
   "cell_type": "code",
   "execution_count": 98,
   "metadata": {},
   "outputs": [
    {
     "data": {
      "text/plain": [
       "9"
      ]
     },
     "execution_count": 98,
     "metadata": {},
     "output_type": "execute_result"
    }
   ],
   "source": [
    "cast_to_int_and_sum(4.4, 5.2)"
   ]
  },
  {
   "cell_type": "markdown",
   "metadata": {},
   "source": [
    "## Data structures"
   ]
  },
  {
   "cell_type": "markdown",
   "metadata": {},
   "source": [
    "- Python knows a number of compound data types, used to group together other values. \n",
    "- The most versatile is the list, which can be written as a list of comma-separated values (items) between square brackets. \n",
    "- Lists might contain items of different types, but usually the items all have the same type."
   ]
  }
 ],
 "metadata": {
  "kernelspec": {
   "display_name": "Python 3",
   "language": "python",
   "name": "python3"
  },
  "language_info": {
   "codemirror_mode": {
    "name": "ipython",
    "version": 3
   },
   "file_extension": ".py",
   "mimetype": "text/x-python",
   "name": "python",
   "nbconvert_exporter": "python",
   "pygments_lexer": "ipython3",
   "version": "3.6.5"
  }
 },
 "nbformat": 4,
 "nbformat_minor": 2
}
